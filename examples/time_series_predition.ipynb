{
 "cells": [
  {
   "cell_type": "code",
   "execution_count": 1,
   "metadata": {},
   "outputs": [],
   "source": [
    "\n",
    "from torch import nn\n",
    "import torch\n",
    "import torch.nn.functional as F\n",
    "import sys\n",
    "\n",
    "sys.path.append('..')\n",
    "\n",
    "class TimeSeriesPredictionModel(nn.Module):\n",
    "    \n",
    "    def __init__(self, input_size: int, hidden_size: int):\n",
    "        super().__init__()\n",
    "        self.rnn = nn.LSTM(input_size=input_size, hidden_size=hidden_size, batch_first=True, num_layers=2)\n",
    "        self.fc = nn.Linear(hidden_size, 36)\n",
    "\n",
    "    def forward(self, x):\n",
    "        x, _ = self.rnn(x)\n",
    "        x = self.fc(x)\n",
    "        return x\n",
    "\n",
    "\n",
    "\n",
    "# Generate sample data for time series prediction (10 samples, each with a sequence length of 30)\n",
    "sample_x = torch.rand(2, 49, 36)  # 2 samples, each being a sequence of 49 time steps, 36 features\n",
    "sample_y = torch.rand(2, 49, 36)  # 2 samples, each being a sequence of 49 time steps, 36 features\n",
    "\n",
    "target_y = torch.zeros_like(sample_y)\n",
    "# Use an LSTM-based model for time series prediction\n",
    "\n",
    "model = TimeSeriesPredictionModel(input_size=36, hidden_size=64)\n",
    "\n",
    "sample_x, sample_y,target_y,model = sample_x.cuda(), sample_y.cuda(),target_y.cuda(),model.cuda()"
   ]
  },
  {
   "cell_type": "code",
   "execution_count": null,
   "metadata": {},
   "outputs": [],
   "source": [
    "# Let's train the model\n",
    "criterion = nn.MSELoss()\n",
    "optimizer = torch.optim.Adam(model.parameters(), lr=0.001)\n",
    "for i in range(100):\n",
    "    optimizer.zero_grad()\n",
    "    pred_y = model(sample_x)\n",
    "    loss = criterion(pred_y, sample_y)\n",
    "    loss.backward()\n",
    "    optimizer.step()\n",
    "# Let's test the model\n",
    "pred_y = model(sample_x)\n",
    "print(F.mse_loss(pred_y, sample_y))  # This should be close to 0"
   ]
  },
  {
   "cell_type": "code",
   "execution_count": 3,
   "metadata": {},
   "outputs": [],
   "source": [
    "# before peforimg any attack, We need to define the loss function\n",
    "# loss function takes only one argument, which is the batch of data\n",
    "# We can define the loss function as follows\n",
    "def loss_fn(batch):\n",
    "    x, y = batch\n",
    "    output = model(x)\n",
    "    return F.mse_loss(output, y)\n",
    "\n",
    "# Or we can define the loss function like this\n",
    "def loss_fn(model,batch):\n",
    "    x, y = batch\n",
    "    output = model(x)\n",
    "    return F.mse_loss(output, y)\n",
    "\n",
    "from functools import partial\n",
    "loss_fn = partial(loss_fn, model) # now loss_fn takes only one argument"
   ]
  },
  {
   "cell_type": "markdown",
   "metadata": {},
   "source": [
    "#### Attack"
   ]
  },
  {
   "cell_type": "code",
   "execution_count": 4,
   "metadata": {},
   "outputs": [],
   "source": [
    "from abe.algorithm.attack import FGSM, PGD, BIM, MIFGSM, TIFGSM, DIFGSM, SINIFGSM, SSA"
   ]
  },
  {
   "cell_type": "code",
   "execution_count": 5,
   "metadata": {},
   "outputs": [],
   "source": [
    "# first we need to define the attack task\n",
    "from abe.task import AttackTask\n",
    "from abe.type import ModelType\n",
    "\n",
    "task = AttackTask(loss_fn=loss_fn, model_type=ModelType.IMAGECLASSIFICATION, is_targeted=False) # for targeted attack, set is_targeted=True\n",
    "\n",
    "# then we can define the attack algorithm\n",
    "\n",
    "attack = BIM(task,eps=1,alpha=0.1) # BIM attack\n",
    "\n",
    "adversarial_x = attack([sample_x, sample_y]) # all attack algorithms take a batch of data as input\n",
    "\n",
    "targeted_task = AttackTask(loss_fn=loss_fn, model_type=ModelType.IMAGECLASSIFICATION, is_targeted=True)\n",
    "\n",
    "targeted_attack = BIM(targeted_task,eps=1,alpha=0.1)\n",
    "\n",
    "targeted_adversarial_x = targeted_attack([sample_x, target_y]) # for targeted attack, the second element of the batch should be the target label"
   ]
  },
  {
   "cell_type": "code",
   "execution_count": null,
   "metadata": {},
   "outputs": [],
   "source": [
    "print(\"Original prediction: \", model(sample_x).squeeze())\n",
    "print(\"Adversarial prediction: \", model(adversarial_x).squeeze())\n",
    "print(\"Targeted adversarial prediction: \", model(targeted_adversarial_x).squeeze())"
   ]
  },
  {
   "cell_type": "markdown",
   "metadata": {},
   "source": [
    "#### Explanation"
   ]
  },
  {
   "cell_type": "code",
   "execution_count": 7,
   "metadata": {},
   "outputs": [],
   "source": [
    "from abe.algorithm.explanation import AMPE,IG, FastIG, SaliencyMap, SmoothGradient, MFABA"
   ]
  },
  {
   "cell_type": "code",
   "execution_count": 8,
   "metadata": {},
   "outputs": [],
   "source": [
    "# first we need to define the explanation task\n",
    "from abe.task import ExplanationTask\n",
    "\n",
    "# Explanation task takes loss function and forward function as initialization arguments\n",
    "\n",
    "def loss_fn(batch):\n",
    "    x, y = batch\n",
    "    output = model(x)\n",
    "    return F.mse_loss(output, y)\n",
    "\n",
    "def forward(batch):\n",
    "    x, _ = batch\n",
    "    return model(x)"
   ]
  },
  {
   "cell_type": "code",
   "execution_count": 9,
   "metadata": {},
   "outputs": [],
   "source": [
    "explanation_task = ExplanationTask(loss_fn=loss_fn, forward_fn=forward, model_type=ModelType.TIMESERIESPREDICTION)"
   ]
  },
  {
   "cell_type": "code",
   "execution_count": 10,
   "metadata": {},
   "outputs": [],
   "source": [
    "# then we can define the explanation algorithm\n",
    "\n",
    "explanation = MFABA(explanation_task)\n",
    "\n",
    "attribution = explanation([sample_x, sample_y])"
   ]
  },
  {
   "cell_type": "code",
   "execution_count": null,
   "metadata": {},
   "outputs": [],
   "source": [
    "attribution.shape"
   ]
  },
  {
   "cell_type": "code",
   "execution_count": null,
   "metadata": {},
   "outputs": [],
   "source": [
    "import seaborn as sns\n",
    "min_ = attribution[0].min()\n",
    "max_ = attribution[0].max()\n",
    "attribution[0] = (attribution[0] - min_) / (max_ - min_)\n",
    "sns.heatmap(attribution[0].mean(0).reshape(6,6),annot=True,fmt=\".2f\")\n"
   ]
  },
  {
   "cell_type": "code",
   "execution_count": null,
   "metadata": {},
   "outputs": [],
   "source": []
  }
 ],
 "metadata": {
  "kernelspec": {
   "display_name": "base",
   "language": "python",
   "name": "python3"
  },
  "language_info": {
   "codemirror_mode": {
    "name": "ipython",
    "version": 3
   },
   "file_extension": ".py",
   "mimetype": "text/x-python",
   "name": "python",
   "nbconvert_exporter": "python",
   "pygments_lexer": "ipython3",
   "version": "3.12.4"
  }
 },
 "nbformat": 4,
 "nbformat_minor": 2
}
