{
 "cells": [
  {
   "cell_type": "code",
   "execution_count": 2,
   "metadata": {},
   "outputs": [],
   "source": [
    "import warnings\n",
    "warnings.filterwarnings('ignore')\n",
    "import os\n",
    "import torch\n",
    "import clip\n",
    "from scripts.plot import visualize_vandt_heatmap\n",
    "from salicncy import chefer,fast_ig,gradcam,m2ib,mfaba,rise,saliencymap\n",
    "from transformers import CLIPProcessor, CLIPModel, CLIPTokenizerFast\n",
    "from PIL import Image, ImageOps\n",
    "os.environ[\"TOKENIZERS_PARALLELISM\"] = \"false\"\n",
    "device = torch.device(\"cuda\" if torch.cuda.is_available() else \"cpu\")"
   ]
  },
  {
   "cell_type": "code",
   "execution_count": 3,
   "metadata": {},
   "outputs": [],
   "source": [
    "def plot(tokenizer,processor, image_path, text, vmap, tmap, bb=None):\n",
    "    # Preprocess image\n",
    "    image = Image.open(image_path).convert('RGB')\n",
    "    # Tokenize text\n",
    "    text_ids = torch.tensor([tokenizer.encode(text, add_special_tokens=True)]).to(device)\n",
    "    text_words = tokenizer.convert_ids_to_tokens(text_ids[0].tolist())\n",
    "    image_under = processor(images=image, return_tensors=\"pt\", do_normalize=False)['pixel_values'][0].permute(1,2,0) # no normalization\n",
    "    if bb:\n",
    "        scaled_bb = []\n",
    "        for x, y, w, h in bb:\n",
    "            hr, vr = image_under.shape[0]/image.size[0], image_under.shape[1]/image.size[1]\n",
    "            scaled_bb.append((x*hr, y*vr, w*hr, h*vr))\n",
    "        bb = scaled_bb\n",
    "    visualize_vandt_heatmap(tmap, vmap, text_words, image_under, bb=bb)"
   ]
  },
  {
   "cell_type": "code",
   "execution_count": 4,
   "metadata": {},
   "outputs": [],
   "source": [
    "model = CLIPModel.from_pretrained(\"openai/clip-vit-base-patch32\").to(device)\n",
    "processor = CLIPProcessor.from_pretrained(\"openai/clip-vit-base-patch32\")\n",
    "tokenizer = CLIPTokenizerFast.from_pretrained(\"openai/clip-vit-base-patch32\")"
   ]
  },
  {
   "cell_type": "markdown",
   "metadata": {},
   "source": [
    "# Visualize"
   ]
  },
  {
   "cell_type": "code",
   "execution_count": 5,
   "metadata": {},
   "outputs": [],
   "source": [
    "def generate_plot(img_path,text,method):\n",
    "    image = Image.open(img_path).convert('RGB')\n",
    "    image_feat = processor(images=image, return_tensors=\"pt\")['pixel_values'].to(device)\n",
    "    image_features = model.get_image_features(image_feat)\n",
    "    text_ids = torch.tensor([tokenizer.encode(text, add_special_tokens=True)]).to(device)\n",
    "    text_words = tokenizer.convert_ids_to_tokens(text_ids[0].tolist())\n",
    "    text_features = model.get_text_features(text_ids)\n",
    "\n",
    "    if method in [chefer,fast_ig,gradcam,mfaba,saliencymap]:\n",
    "        vmap, tmap = method(model, processor, [text], [image])\n",
    "    elif method == rise:\n",
    "        vmap, tmap = rise(model, image_feat,[text_ids],image_features,text_features)\n",
    "        tmap = [tmap[0].detach().cpu().numpy()]\n",
    "    elif method == m2ib:\n",
    "        vmap, tmap = m2ib(model, [text_ids], image_feat, 0.1)\n",
    "    if vmap.shape[1] == 3:\n",
    "        vmap = vmap.mean(1)\n",
    "    plot(tokenizer, processor, img_path, text, vmap.squeeze(), tmap[0])"
   ]
  },
  {
   "cell_type": "code",
   "execution_count": null,
   "metadata": {
    "tags": []
   },
   "outputs": [],
   "source": [
    "img_path = \"images/cat-dog.jpg\"\n",
    "text = \"a cat and a dog.\"\n",
    "\n",
    "generate_plot(img_path,text,m2ib)"
   ]
  },
  {
   "cell_type": "code",
   "execution_count": null,
   "metadata": {},
   "outputs": [],
   "source": [
    "text = \"a dog.\"\n",
    "generate_plot(img_path,text,m2ib)"
   ]
  },
  {
   "cell_type": "code",
   "execution_count": null,
   "metadata": {},
   "outputs": [],
   "source": [
    "text = \"a cat.\"\n",
    "generate_plot(img_path,text,m2ib)"
   ]
  }
 ],
 "metadata": {
  "kernelspec": {
   "display_name": "base",
   "language": "python",
   "name": "python3"
  },
  "language_info": {
   "codemirror_mode": {
    "name": "ipython",
    "version": 3
   },
   "file_extension": ".py",
   "mimetype": "text/x-python",
   "name": "python",
   "nbconvert_exporter": "python",
   "pygments_lexer": "ipython3",
   "version": "3.12.3"
  },
  "pycharm": {
   "stem_cell": {
    "cell_type": "raw",
    "metadata": {
     "collapsed": false
    },
    "source": []
   }
  }
 },
 "nbformat": 4,
 "nbformat_minor": 4
}
